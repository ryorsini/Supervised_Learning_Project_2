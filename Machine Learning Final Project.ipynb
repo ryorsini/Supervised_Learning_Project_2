{
 "cells": [
  {
   "cell_type": "code",
   "execution_count": 7,
   "metadata": {
    "collapsed": false
   },
   "outputs": [
    {
     "name": "stderr",
     "output_type": "stream",
     "text": [
      "C:\\Users\\princ\\Anaconda3\\lib\\site-packages\\IPython\\core\\interactiveshell.py:2881: FutureWarning: \n",
      "mpl_style had been deprecated and will be removed in a future version.\n",
      "Use `matplotlib.pyplot.style.use` instead.\n",
      "\n",
      "  exec(code_obj, self.user_global_ns, self.user_ns)\n"
     ]
    },
    {
     "data": {
      "text/plain": [
       "['aws.pem',\n",
       " 'Data',\n",
       " 'desktop.ini',\n",
       " 'No-show-Issue-Comma-300k.csv',\n",
       " 'Project',\n",
       " 'tree.dot']"
      ]
     },
     "execution_count": 7,
     "metadata": {},
     "output_type": "execute_result"
    }
   ],
   "source": [
    "#Import numpy/Pandas\n",
    "import os\n",
    "import numpy as np\n",
    "import pandas as pd\n",
    "pd.set_option('display.max_rows', None)\n",
    "pd.set_option('display.max_columns', None)\n",
    "pd.set_option('display.mpl_style','default')\n",
    "\n",
    "#Import Plots\n",
    "import matplotlib.pyplot as plt\n",
    "import seaborn as sns\n",
    "%matplotlib inline\n",
    "plt.rcParams['figure.figsize'] = (15,5)\n",
    "sns.set(context=\"paper\", font=\"monospace\")\n",
    "\n",
    "\n",
    "#Supress Unnecessary warnings\n",
    "import warnings\n",
    "warnings.filterwarnings(\"ignore\")\n",
    "\n",
    "os.chdir('C:\\\\Users\\\\princ\\\\Downloads')\n",
    "os.listdir()"
   ]
  },
  {
   "cell_type": "code",
   "execution_count": 5,
   "metadata": {
    "collapsed": true
   },
   "outputs": [],
   "source": [
    "#Import the No-show-Issue-Comma-300k.csv file into Ipython usind pandas\n",
    "df = pd.read_csv('No-show-Issue-Comma-300k.csv')"
   ]
  },
  {
   "cell_type": "code",
   "execution_count": 6,
   "metadata": {
    "collapsed": false
   },
   "outputs": [
    {
     "data": {
      "text/html": [
       "<div>\n",
       "<table border=\"1\" class=\"dataframe\">\n",
       "  <thead>\n",
       "    <tr style=\"text-align: right;\">\n",
       "      <th></th>\n",
       "      <th>Age</th>\n",
       "      <th>Gender</th>\n",
       "      <th>AppointmentRegistration</th>\n",
       "      <th>ApointmentData</th>\n",
       "      <th>DayOfTheWeek</th>\n",
       "      <th>Status</th>\n",
       "      <th>Diabetes</th>\n",
       "      <th>Alcoolism</th>\n",
       "      <th>HiperTension</th>\n",
       "      <th>Handcap</th>\n",
       "      <th>Smokes</th>\n",
       "      <th>Scholarship</th>\n",
       "      <th>Tuberculosis</th>\n",
       "      <th>Sms_Reminder</th>\n",
       "      <th>AwaitingTime</th>\n",
       "    </tr>\n",
       "  </thead>\n",
       "  <tbody>\n",
       "    <tr>\n",
       "      <th>0</th>\n",
       "      <td>19</td>\n",
       "      <td>M</td>\n",
       "      <td>2014-12-16T14:46:25Z</td>\n",
       "      <td>2015-01-14T00:00:00Z</td>\n",
       "      <td>Wednesday</td>\n",
       "      <td>Show-Up</td>\n",
       "      <td>0</td>\n",
       "      <td>0</td>\n",
       "      <td>0</td>\n",
       "      <td>0</td>\n",
       "      <td>0</td>\n",
       "      <td>0</td>\n",
       "      <td>0</td>\n",
       "      <td>0</td>\n",
       "      <td>-29</td>\n",
       "    </tr>\n",
       "    <tr>\n",
       "      <th>1</th>\n",
       "      <td>24</td>\n",
       "      <td>F</td>\n",
       "      <td>2015-08-18T07:01:26Z</td>\n",
       "      <td>2015-08-19T00:00:00Z</td>\n",
       "      <td>Wednesday</td>\n",
       "      <td>Show-Up</td>\n",
       "      <td>0</td>\n",
       "      <td>0</td>\n",
       "      <td>0</td>\n",
       "      <td>0</td>\n",
       "      <td>0</td>\n",
       "      <td>0</td>\n",
       "      <td>0</td>\n",
       "      <td>0</td>\n",
       "      <td>-1</td>\n",
       "    </tr>\n",
       "    <tr>\n",
       "      <th>2</th>\n",
       "      <td>4</td>\n",
       "      <td>F</td>\n",
       "      <td>2014-02-17T12:53:46Z</td>\n",
       "      <td>2014-02-18T00:00:00Z</td>\n",
       "      <td>Tuesday</td>\n",
       "      <td>Show-Up</td>\n",
       "      <td>0</td>\n",
       "      <td>0</td>\n",
       "      <td>0</td>\n",
       "      <td>0</td>\n",
       "      <td>0</td>\n",
       "      <td>0</td>\n",
       "      <td>0</td>\n",
       "      <td>0</td>\n",
       "      <td>-1</td>\n",
       "    </tr>\n",
       "    <tr>\n",
       "      <th>3</th>\n",
       "      <td>5</td>\n",
       "      <td>M</td>\n",
       "      <td>2014-07-23T17:02:11Z</td>\n",
       "      <td>2014-08-07T00:00:00Z</td>\n",
       "      <td>Thursday</td>\n",
       "      <td>Show-Up</td>\n",
       "      <td>0</td>\n",
       "      <td>0</td>\n",
       "      <td>0</td>\n",
       "      <td>0</td>\n",
       "      <td>0</td>\n",
       "      <td>0</td>\n",
       "      <td>0</td>\n",
       "      <td>1</td>\n",
       "      <td>-15</td>\n",
       "    </tr>\n",
       "    <tr>\n",
       "      <th>4</th>\n",
       "      <td>38</td>\n",
       "      <td>M</td>\n",
       "      <td>2015-10-21T15:20:09Z</td>\n",
       "      <td>2015-10-27T00:00:00Z</td>\n",
       "      <td>Tuesday</td>\n",
       "      <td>Show-Up</td>\n",
       "      <td>0</td>\n",
       "      <td>0</td>\n",
       "      <td>0</td>\n",
       "      <td>0</td>\n",
       "      <td>0</td>\n",
       "      <td>0</td>\n",
       "      <td>0</td>\n",
       "      <td>1</td>\n",
       "      <td>-6</td>\n",
       "    </tr>\n",
       "  </tbody>\n",
       "</table>\n",
       "</div>"
      ],
      "text/plain": [
       "   Age Gender AppointmentRegistration        ApointmentData DayOfTheWeek  \\\n",
       "0   19      M    2014-12-16T14:46:25Z  2015-01-14T00:00:00Z    Wednesday   \n",
       "1   24      F    2015-08-18T07:01:26Z  2015-08-19T00:00:00Z    Wednesday   \n",
       "2    4      F    2014-02-17T12:53:46Z  2014-02-18T00:00:00Z      Tuesday   \n",
       "3    5      M    2014-07-23T17:02:11Z  2014-08-07T00:00:00Z     Thursday   \n",
       "4   38      M    2015-10-21T15:20:09Z  2015-10-27T00:00:00Z      Tuesday   \n",
       "\n",
       "    Status  Diabetes  Alcoolism  HiperTension  Handcap  Smokes  Scholarship  \\\n",
       "0  Show-Up         0          0             0        0       0            0   \n",
       "1  Show-Up         0          0             0        0       0            0   \n",
       "2  Show-Up         0          0             0        0       0            0   \n",
       "3  Show-Up         0          0             0        0       0            0   \n",
       "4  Show-Up         0          0             0        0       0            0   \n",
       "\n",
       "   Tuberculosis  Sms_Reminder  AwaitingTime  \n",
       "0             0             0           -29  \n",
       "1             0             0            -1  \n",
       "2             0             0            -1  \n",
       "3             0             1           -15  \n",
       "4             0             1            -6  "
      ]
     },
     "execution_count": 6,
     "metadata": {},
     "output_type": "execute_result"
    }
   ],
   "source": [
    "#Head to see the top 5 rows and the structure of the dataset\n",
    "df.head()"
   ]
  },
  {
   "cell_type": "code",
   "execution_count": 7,
   "metadata": {
    "collapsed": false,
    "scrolled": true
   },
   "outputs": [
    {
     "data": {
      "text/html": [
       "<div>\n",
       "<table border=\"1\" class=\"dataframe\">\n",
       "  <thead>\n",
       "    <tr style=\"text-align: right;\">\n",
       "      <th></th>\n",
       "      <th>Age</th>\n",
       "      <th>Gender</th>\n",
       "      <th>AppointmentRegistration</th>\n",
       "      <th>ApointmentData</th>\n",
       "      <th>DayOfTheWeek</th>\n",
       "      <th>Status</th>\n",
       "      <th>Diabetes</th>\n",
       "      <th>Alcoolism</th>\n",
       "      <th>HiperTension</th>\n",
       "      <th>Handcap</th>\n",
       "      <th>Smokes</th>\n",
       "      <th>Scholarship</th>\n",
       "      <th>Tuberculosis</th>\n",
       "      <th>Sms_Reminder</th>\n",
       "      <th>AwaitingTime</th>\n",
       "    </tr>\n",
       "  </thead>\n",
       "  <tbody>\n",
       "    <tr>\n",
       "      <th>299995</th>\n",
       "      <td>41</td>\n",
       "      <td>M</td>\n",
       "      <td>2014-03-24T09:28:22Z</td>\n",
       "      <td>2014-04-16T00:00:00Z</td>\n",
       "      <td>Wednesday</td>\n",
       "      <td>Show-Up</td>\n",
       "      <td>0</td>\n",
       "      <td>0</td>\n",
       "      <td>1</td>\n",
       "      <td>0</td>\n",
       "      <td>0</td>\n",
       "      <td>0</td>\n",
       "      <td>0</td>\n",
       "      <td>1</td>\n",
       "      <td>-23</td>\n",
       "    </tr>\n",
       "    <tr>\n",
       "      <th>299996</th>\n",
       "      <td>67</td>\n",
       "      <td>F</td>\n",
       "      <td>2014-11-21T12:00:36Z</td>\n",
       "      <td>2014-11-25T00:00:00Z</td>\n",
       "      <td>Tuesday</td>\n",
       "      <td>Show-Up</td>\n",
       "      <td>1</td>\n",
       "      <td>0</td>\n",
       "      <td>1</td>\n",
       "      <td>0</td>\n",
       "      <td>0</td>\n",
       "      <td>0</td>\n",
       "      <td>0</td>\n",
       "      <td>1</td>\n",
       "      <td>-4</td>\n",
       "    </tr>\n",
       "    <tr>\n",
       "      <th>299997</th>\n",
       "      <td>48</td>\n",
       "      <td>F</td>\n",
       "      <td>2014-07-24T15:46:38Z</td>\n",
       "      <td>2014-07-25T00:00:00Z</td>\n",
       "      <td>Friday</td>\n",
       "      <td>No-Show</td>\n",
       "      <td>0</td>\n",
       "      <td>0</td>\n",
       "      <td>0</td>\n",
       "      <td>0</td>\n",
       "      <td>0</td>\n",
       "      <td>1</td>\n",
       "      <td>0</td>\n",
       "      <td>0</td>\n",
       "      <td>-1</td>\n",
       "    </tr>\n",
       "    <tr>\n",
       "      <th>299998</th>\n",
       "      <td>5</td>\n",
       "      <td>M</td>\n",
       "      <td>2015-05-15T09:58:50Z</td>\n",
       "      <td>2015-05-21T00:00:00Z</td>\n",
       "      <td>Thursday</td>\n",
       "      <td>Show-Up</td>\n",
       "      <td>0</td>\n",
       "      <td>0</td>\n",
       "      <td>0</td>\n",
       "      <td>0</td>\n",
       "      <td>0</td>\n",
       "      <td>0</td>\n",
       "      <td>0</td>\n",
       "      <td>0</td>\n",
       "      <td>-6</td>\n",
       "    </tr>\n",
       "    <tr>\n",
       "      <th>299999</th>\n",
       "      <td>0</td>\n",
       "      <td>M</td>\n",
       "      <td>2015-06-12T14:34:25Z</td>\n",
       "      <td>2015-07-15T00:00:00Z</td>\n",
       "      <td>Wednesday</td>\n",
       "      <td>Show-Up</td>\n",
       "      <td>0</td>\n",
       "      <td>0</td>\n",
       "      <td>0</td>\n",
       "      <td>0</td>\n",
       "      <td>0</td>\n",
       "      <td>0</td>\n",
       "      <td>0</td>\n",
       "      <td>1</td>\n",
       "      <td>-33</td>\n",
       "    </tr>\n",
       "  </tbody>\n",
       "</table>\n",
       "</div>"
      ],
      "text/plain": [
       "        Age Gender AppointmentRegistration        ApointmentData DayOfTheWeek  \\\n",
       "299995   41      M    2014-03-24T09:28:22Z  2014-04-16T00:00:00Z    Wednesday   \n",
       "299996   67      F    2014-11-21T12:00:36Z  2014-11-25T00:00:00Z      Tuesday   \n",
       "299997   48      F    2014-07-24T15:46:38Z  2014-07-25T00:00:00Z       Friday   \n",
       "299998    5      M    2015-05-15T09:58:50Z  2015-05-21T00:00:00Z     Thursday   \n",
       "299999    0      M    2015-06-12T14:34:25Z  2015-07-15T00:00:00Z    Wednesday   \n",
       "\n",
       "         Status  Diabetes  Alcoolism  HiperTension  Handcap  Smokes  \\\n",
       "299995  Show-Up         0          0             1        0       0   \n",
       "299996  Show-Up         1          0             1        0       0   \n",
       "299997  No-Show         0          0             0        0       0   \n",
       "299998  Show-Up         0          0             0        0       0   \n",
       "299999  Show-Up         0          0             0        0       0   \n",
       "\n",
       "        Scholarship  Tuberculosis  Sms_Reminder  AwaitingTime  \n",
       "299995            0             0             1           -23  \n",
       "299996            0             0             1            -4  \n",
       "299997            1             0             0            -1  \n",
       "299998            0             0             0            -6  \n",
       "299999            0             0             1           -33  "
      ]
     },
     "execution_count": 7,
     "metadata": {},
     "output_type": "execute_result"
    }
   ],
   "source": [
    "#Tail to see the bottom 5 rows and the structure of the dataset\n",
    "df.tail()"
   ]
  },
  {
   "cell_type": "code",
   "execution_count": 8,
   "metadata": {
    "collapsed": false
   },
   "outputs": [
    {
     "data": {
      "text/plain": [
       "(300000, 15)"
      ]
     },
     "execution_count": 8,
     "metadata": {},
     "output_type": "execute_result"
    }
   ],
   "source": [
    "#Shape to see the overall structure of the dataset. \n",
    "#Its shows that the dataset has 300000 rows and 15 columns\n",
    "df.shape"
   ]
  },
  {
   "cell_type": "code",
   "execution_count": 9,
   "metadata": {
    "collapsed": false
   },
   "outputs": [
    {
     "data": {
      "text/html": [
       "<div>\n",
       "<table border=\"1\" class=\"dataframe\">\n",
       "  <thead>\n",
       "    <tr style=\"text-align: right;\">\n",
       "      <th></th>\n",
       "      <th>Status</th>\n",
       "    </tr>\n",
       "  </thead>\n",
       "  <tbody>\n",
       "    <tr>\n",
       "      <th>Show-Up</th>\n",
       "      <td>209269</td>\n",
       "    </tr>\n",
       "    <tr>\n",
       "      <th>No-Show</th>\n",
       "      <td>90731</td>\n",
       "    </tr>\n",
       "  </tbody>\n",
       "</table>\n",
       "</div>"
      ],
      "text/plain": [
       "         Status\n",
       "Show-Up  209269\n",
       "No-Show   90731"
      ]
     },
     "execution_count": 9,
     "metadata": {},
     "output_type": "execute_result"
    }
   ],
   "source": [
    "#Shows the Count of Status, Wheather a Show-Up Or No-Show\n",
    "df['Status'].value_counts().to_frame()"
   ]
  },
  {
   "cell_type": "code",
   "execution_count": 10,
   "metadata": {
    "collapsed": false,
    "scrolled": true
   },
   "outputs": [
    {
     "data": {
      "image/png": "[encoded data removed]",
      "text/plain": [
       "<matplotlib.figure.Figure at 0x1ea55f18ac8>"
      ]
     },
     "metadata": {},
     "output_type": "display_data"
    }
   ],
   "source": [
    "#Barplot of the Status Count\n",
    "group = df.groupby(['Status'])\n",
    "gps = group.size()\n",
    "f,ax = plt.subplots(figsize = (8, 6))\n",
    "sns.barplot(x = gps.index.tolist(), y = gps.values)\n",
    "sns.plt.show()"
   ]
  },
  {
   "cell_type": "markdown",
   "metadata": {},
   "source": [
    "###### The dataset shows that about the 30% of the appointment are \"No-Show\"."
   ]
  },
  {
   "cell_type": "code",
   "execution_count": 11,
   "metadata": {
    "collapsed": false
   },
   "outputs": [
    {
     "data": {
      "text/html": [
       "<div>\n",
       "<table border=\"1\" class=\"dataframe\">\n",
       "  <thead>\n",
       "    <tr style=\"text-align: right;\">\n",
       "      <th></th>\n",
       "      <th></th>\n",
       "      <th></th>\n",
       "      <th></th>\n",
       "      <th>0</th>\n",
       "    </tr>\n",
       "    <tr>\n",
       "      <th>Status</th>\n",
       "      <th>Gender</th>\n",
       "      <th>Smokes</th>\n",
       "      <th>Sms_Reminder</th>\n",
       "      <th></th>\n",
       "    </tr>\n",
       "  </thead>\n",
       "  <tbody>\n",
       "    <tr>\n",
       "      <th rowspan=\"12\" valign=\"top\">No-Show</th>\n",
       "      <th rowspan=\"6\" valign=\"top\">F</th>\n",
       "      <th rowspan=\"3\" valign=\"top\">0</th>\n",
       "      <th>0</th>\n",
       "      <td>23459</td>\n",
       "    </tr>\n",
       "    <tr>\n",
       "      <th>1</th>\n",
       "      <td>32970</td>\n",
       "    </tr>\n",
       "    <tr>\n",
       "      <th>2</th>\n",
       "      <td>182</td>\n",
       "    </tr>\n",
       "    <tr>\n",
       "      <th rowspan=\"3\" valign=\"top\">1</th>\n",
       "      <th>0</th>\n",
       "      <td>1400</td>\n",
       "    </tr>\n",
       "    <tr>\n",
       "      <th>1</th>\n",
       "      <td>1872</td>\n",
       "    </tr>\n",
       "    <tr>\n",
       "      <th>2</th>\n",
       "      <td>8</td>\n",
       "    </tr>\n",
       "    <tr>\n",
       "      <th rowspan=\"6\" valign=\"top\">M</th>\n",
       "      <th rowspan=\"3\" valign=\"top\">0</th>\n",
       "      <th>0</th>\n",
       "      <td>12994</td>\n",
       "    </tr>\n",
       "    <tr>\n",
       "      <th>1</th>\n",
       "      <td>15560</td>\n",
       "    </tr>\n",
       "    <tr>\n",
       "      <th>2</th>\n",
       "      <td>76</td>\n",
       "    </tr>\n",
       "    <tr>\n",
       "      <th rowspan=\"3\" valign=\"top\">1</th>\n",
       "      <th>0</th>\n",
       "      <td>1062</td>\n",
       "    </tr>\n",
       "    <tr>\n",
       "      <th>1</th>\n",
       "      <td>1146</td>\n",
       "    </tr>\n",
       "    <tr>\n",
       "      <th>2</th>\n",
       "      <td>2</td>\n",
       "    </tr>\n",
       "    <tr>\n",
       "      <th rowspan=\"12\" valign=\"top\">Show-Up</th>\n",
       "      <th rowspan=\"6\" valign=\"top\">F</th>\n",
       "      <th rowspan=\"3\" valign=\"top\">0</th>\n",
       "      <th>0</th>\n",
       "      <td>56217</td>\n",
       "    </tr>\n",
       "    <tr>\n",
       "      <th>1</th>\n",
       "      <td>78048</td>\n",
       "    </tr>\n",
       "    <tr>\n",
       "      <th>2</th>\n",
       "      <td>340</td>\n",
       "    </tr>\n",
       "    <tr>\n",
       "      <th rowspan=\"3\" valign=\"top\">1</th>\n",
       "      <th>0</th>\n",
       "      <td>2611</td>\n",
       "    </tr>\n",
       "    <tr>\n",
       "      <th>1</th>\n",
       "      <td>3384</td>\n",
       "    </tr>\n",
       "    <tr>\n",
       "      <th>2</th>\n",
       "      <td>14</td>\n",
       "    </tr>\n",
       "    <tr>\n",
       "      <th rowspan=\"6\" valign=\"top\">M</th>\n",
       "      <th rowspan=\"3\" valign=\"top\">0</th>\n",
       "      <th>0</th>\n",
       "      <td>28796</td>\n",
       "    </tr>\n",
       "    <tr>\n",
       "      <th>1</th>\n",
       "      <td>35479</td>\n",
       "    </tr>\n",
       "    <tr>\n",
       "      <th>2</th>\n",
       "      <td>168</td>\n",
       "    </tr>\n",
       "    <tr>\n",
       "      <th rowspan=\"3\" valign=\"top\">1</th>\n",
       "      <th>0</th>\n",
       "      <td>2008</td>\n",
       "    </tr>\n",
       "    <tr>\n",
       "      <th>1</th>\n",
       "      <td>2195</td>\n",
       "    </tr>\n",
       "    <tr>\n",
       "      <th>2</th>\n",
       "      <td>9</td>\n",
       "    </tr>\n",
       "  </tbody>\n",
       "</table>\n",
       "</div>"
      ],
      "text/plain": [
       "                                        0\n",
       "Status  Gender Smokes Sms_Reminder       \n",
       "No-Show F      0      0             23459\n",
       "                      1             32970\n",
       "                      2               182\n",
       "               1      0              1400\n",
       "                      1              1872\n",
       "                      2                 8\n",
       "        M      0      0             12994\n",
       "                      1             15560\n",
       "                      2                76\n",
       "               1      0              1062\n",
       "                      1              1146\n",
       "                      2                 2\n",
       "Show-Up F      0      0             56217\n",
       "                      1             78048\n",
       "                      2               340\n",
       "               1      0              2611\n",
       "                      1              3384\n",
       "                      2                14\n",
       "        M      0      0             28796\n",
       "                      1             35479\n",
       "                      2               168\n",
       "               1      0              2008\n",
       "                      1              2195\n",
       "                      2                 9"
      ]
     },
     "execution_count": 11,
     "metadata": {},
     "output_type": "execute_result"
    }
   ],
   "source": [
    "#Grouping the Gender , Smoker, Status and Sms Reminder\n",
    "#Non-Smoker--0&&Smoker--1||No-SMS-Reminder--0&&SMS-Reminder--1\n",
    "df.groupby(['Status', 'Gender','Smokes','Sms_Reminder',]).size().to_frame()"
   ]
  },
  {
   "cell_type": "code",
   "execution_count": 12,
   "metadata": {
    "collapsed": false
   },
   "outputs": [
    {
     "data": {
      "text/html": [
       "<div>\n",
       "<table border=\"1\" class=\"dataframe\">\n",
       "  <thead>\n",
       "    <tr style=\"text-align: right;\">\n",
       "      <th></th>\n",
       "      <th></th>\n",
       "      <th></th>\n",
       "      <th></th>\n",
       "      <th></th>\n",
       "      <th>0</th>\n",
       "    </tr>\n",
       "    <tr>\n",
       "      <th>Status</th>\n",
       "      <th>Gender</th>\n",
       "      <th>Diabetes</th>\n",
       "      <th>HiperTension</th>\n",
       "      <th>Alcoolism</th>\n",
       "      <th></th>\n",
       "    </tr>\n",
       "  </thead>\n",
       "  <tbody>\n",
       "    <tr>\n",
       "      <th rowspan=\"16\" valign=\"top\">No-Show</th>\n",
       "      <th rowspan=\"8\" valign=\"top\">F</th>\n",
       "      <th rowspan=\"4\" valign=\"top\">0</th>\n",
       "      <th rowspan=\"2\" valign=\"top\">0</th>\n",
       "      <th>0</th>\n",
       "      <td>46834</td>\n",
       "    </tr>\n",
       "    <tr>\n",
       "      <th>1</th>\n",
       "      <td>803</td>\n",
       "    </tr>\n",
       "    <tr>\n",
       "      <th rowspan=\"2\" valign=\"top\">1</th>\n",
       "      <th>0</th>\n",
       "      <td>7847</td>\n",
       "    </tr>\n",
       "    <tr>\n",
       "      <th>1</th>\n",
       "      <td>270</td>\n",
       "    </tr>\n",
       "    <tr>\n",
       "      <th rowspan=\"4\" valign=\"top\">1</th>\n",
       "      <th rowspan=\"2\" valign=\"top\">0</th>\n",
       "      <th>0</th>\n",
       "      <td>729</td>\n",
       "    </tr>\n",
       "    <tr>\n",
       "      <th>1</th>\n",
       "      <td>11</td>\n",
       "    </tr>\n",
       "    <tr>\n",
       "      <th rowspan=\"2\" valign=\"top\">1</th>\n",
       "      <th>0</th>\n",
       "      <td>3322</td>\n",
       "    </tr>\n",
       "    <tr>\n",
       "      <th>1</th>\n",
       "      <td>75</td>\n",
       "    </tr>\n",
       "    <tr>\n",
       "      <th rowspan=\"8\" valign=\"top\">M</th>\n",
       "      <th rowspan=\"4\" valign=\"top\">0</th>\n",
       "      <th rowspan=\"2\" valign=\"top\">0</th>\n",
       "      <th>0</th>\n",
       "      <td>24693</td>\n",
       "    </tr>\n",
       "    <tr>\n",
       "      <th>1</th>\n",
       "      <td>982</td>\n",
       "    </tr>\n",
       "    <tr>\n",
       "      <th rowspan=\"2\" valign=\"top\">1</th>\n",
       "      <th>0</th>\n",
       "      <td>2868</td>\n",
       "    </tr>\n",
       "    <tr>\n",
       "      <th>1</th>\n",
       "      <td>508</td>\n",
       "    </tr>\n",
       "    <tr>\n",
       "      <th rowspan=\"4\" valign=\"top\">1</th>\n",
       "      <th rowspan=\"2\" valign=\"top\">0</th>\n",
       "      <th>0</th>\n",
       "      <td>398</td>\n",
       "    </tr>\n",
       "    <tr>\n",
       "      <th>1</th>\n",
       "      <td>41</td>\n",
       "    </tr>\n",
       "    <tr>\n",
       "      <th rowspan=\"2\" valign=\"top\">1</th>\n",
       "      <th>0</th>\n",
       "      <td>1223</td>\n",
       "    </tr>\n",
       "    <tr>\n",
       "      <th>1</th>\n",
       "      <td>127</td>\n",
       "    </tr>\n",
       "    <tr>\n",
       "      <th rowspan=\"16\" valign=\"top\">Show-Up</th>\n",
       "      <th rowspan=\"8\" valign=\"top\">F</th>\n",
       "      <th rowspan=\"4\" valign=\"top\">0</th>\n",
       "      <th rowspan=\"2\" valign=\"top\">0</th>\n",
       "      <th>0</th>\n",
       "      <td>103030</td>\n",
       "    </tr>\n",
       "    <tr>\n",
       "      <th>1</th>\n",
       "      <td>1057</td>\n",
       "    </tr>\n",
       "    <tr>\n",
       "      <th rowspan=\"2\" valign=\"top\">1</th>\n",
       "      <th>0</th>\n",
       "      <td>23738</td>\n",
       "    </tr>\n",
       "    <tr>\n",
       "      <th>1</th>\n",
       "      <td>532</td>\n",
       "    </tr>\n",
       "    <tr>\n",
       "      <th rowspan=\"4\" valign=\"top\">1</th>\n",
       "      <th rowspan=\"2\" valign=\"top\">0</th>\n",
       "      <th>0</th>\n",
       "      <td>2030</td>\n",
       "    </tr>\n",
       "    <tr>\n",
       "      <th>1</th>\n",
       "      <td>25</td>\n",
       "    </tr>\n",
       "    <tr>\n",
       "      <th rowspan=\"2\" valign=\"top\">1</th>\n",
       "      <th>0</th>\n",
       "      <td>10050</td>\n",
       "    </tr>\n",
       "    <tr>\n",
       "      <th>1</th>\n",
       "      <td>152</td>\n",
       "    </tr>\n",
       "    <tr>\n",
       "      <th rowspan=\"8\" valign=\"top\">M</th>\n",
       "      <th rowspan=\"4\" valign=\"top\">0</th>\n",
       "      <th rowspan=\"2\" valign=\"top\">0</th>\n",
       "      <th>0</th>\n",
       "      <td>52010</td>\n",
       "    </tr>\n",
       "    <tr>\n",
       "      <th>1</th>\n",
       "      <td>1527</td>\n",
       "    </tr>\n",
       "    <tr>\n",
       "      <th rowspan=\"2\" valign=\"top\">1</th>\n",
       "      <th>0</th>\n",
       "      <td>8930</td>\n",
       "    </tr>\n",
       "    <tr>\n",
       "      <th>1</th>\n",
       "      <td>981</td>\n",
       "    </tr>\n",
       "    <tr>\n",
       "      <th rowspan=\"4\" valign=\"top\">1</th>\n",
       "      <th rowspan=\"2\" valign=\"top\">0</th>\n",
       "      <th>0</th>\n",
       "      <td>973</td>\n",
       "    </tr>\n",
       "    <tr>\n",
       "      <th>1</th>\n",
       "      <td>90</td>\n",
       "    </tr>\n",
       "    <tr>\n",
       "      <th rowspan=\"2\" valign=\"top\">1</th>\n",
       "      <th>0</th>\n",
       "      <td>3822</td>\n",
       "    </tr>\n",
       "    <tr>\n",
       "      <th>1</th>\n",
       "      <td>322</td>\n",
       "    </tr>\n",
       "  </tbody>\n",
       "</table>\n",
       "</div>"
      ],
      "text/plain": [
       "                                                     0\n",
       "Status  Gender Diabetes HiperTension Alcoolism        \n",
       "No-Show F      0        0            0           46834\n",
       "                                     1             803\n",
       "                        1            0            7847\n",
       "                                     1             270\n",
       "               1        0            0             729\n",
       "                                     1              11\n",
       "                        1            0            3322\n",
       "                                     1              75\n",
       "        M      0        0            0           24693\n",
       "                                     1             982\n",
       "                        1            0            2868\n",
       "                                     1             508\n",
       "               1        0            0             398\n",
       "                                     1              41\n",
       "                        1            0            1223\n",
       "                                     1             127\n",
       "Show-Up F      0        0            0          103030\n",
       "                                     1            1057\n",
       "                        1            0           23738\n",
       "                                     1             532\n",
       "               1        0            0            2030\n",
       "                                     1              25\n",
       "                        1            0           10050\n",
       "                                     1             152\n",
       "        M      0        0            0           52010\n",
       "                                     1            1527\n",
       "                        1            0            8930\n",
       "                                     1             981\n",
       "               1        0            0             973\n",
       "                                     1              90\n",
       "                        1            0            3822\n",
       "                                     1             322"
      ]
     },
     "execution_count": 12,
     "metadata": {},
     "output_type": "execute_result"
    }
   ],
   "source": [
    "#Grouping the Gender , Status , Diabetes, HiperTension and Alcholism\n",
    "#No-Diabetes--0&&Diabetes--1||No-HiperTension--0&&HiperTension--1\n",
    "#Non-Alcholic--0&&Alcholic--1\n",
    "df.groupby(['Status','Gender','Diabetes','HiperTension',\n",
    "            'Alcoolism']).size().to_frame()"
   ]
  },
  {
   "cell_type": "code",
   "execution_count": 13,
   "metadata": {
    "collapsed": false
   },
   "outputs": [
    {
     "data": {
      "text/html": [
       "<div>\n",
       "<table border=\"1\" class=\"dataframe\">\n",
       "  <thead>\n",
       "    <tr style=\"text-align: right;\">\n",
       "      <th></th>\n",
       "      <th></th>\n",
       "      <th></th>\n",
       "      <th></th>\n",
       "      <th>0</th>\n",
       "    </tr>\n",
       "    <tr>\n",
       "      <th>Status</th>\n",
       "      <th>Gender</th>\n",
       "      <th>Handcap</th>\n",
       "      <th>Scholarship</th>\n",
       "      <th></th>\n",
       "    </tr>\n",
       "  </thead>\n",
       "  <tbody>\n",
       "    <tr>\n",
       "      <th rowspan=\"17\" valign=\"top\">No-Show</th>\n",
       "      <th rowspan=\"8\" valign=\"top\">F</th>\n",
       "      <th rowspan=\"2\" valign=\"top\">0</th>\n",
       "      <th>0</th>\n",
       "      <td>50615</td>\n",
       "    </tr>\n",
       "    <tr>\n",
       "      <th>1</th>\n",
       "      <td>8433</td>\n",
       "    </tr>\n",
       "    <tr>\n",
       "      <th rowspan=\"2\" valign=\"top\">1</th>\n",
       "      <th>0</th>\n",
       "      <td>661</td>\n",
       "    </tr>\n",
       "    <tr>\n",
       "      <th>1</th>\n",
       "      <td>122</td>\n",
       "    </tr>\n",
       "    <tr>\n",
       "      <th rowspan=\"2\" valign=\"top\">2</th>\n",
       "      <th>0</th>\n",
       "      <td>44</td>\n",
       "    </tr>\n",
       "    <tr>\n",
       "      <th>1</th>\n",
       "      <td>14</td>\n",
       "    </tr>\n",
       "    <tr>\n",
       "      <th>3</th>\n",
       "      <th>0</th>\n",
       "      <td>1</td>\n",
       "    </tr>\n",
       "    <tr>\n",
       "      <th>4</th>\n",
       "      <th>0</th>\n",
       "      <td>1</td>\n",
       "    </tr>\n",
       "    <tr>\n",
       "      <th rowspan=\"9\" valign=\"top\">M</th>\n",
       "      <th rowspan=\"2\" valign=\"top\">0</th>\n",
       "      <th>0</th>\n",
       "      <td>28256</td>\n",
       "    </tr>\n",
       "    <tr>\n",
       "      <th>1</th>\n",
       "      <td>1859</td>\n",
       "    </tr>\n",
       "    <tr>\n",
       "      <th rowspan=\"2\" valign=\"top\">1</th>\n",
       "      <th>0</th>\n",
       "      <td>616</td>\n",
       "    </tr>\n",
       "    <tr>\n",
       "      <th>1</th>\n",
       "      <td>30</td>\n",
       "    </tr>\n",
       "    <tr>\n",
       "      <th rowspan=\"2\" valign=\"top\">2</th>\n",
       "      <th>0</th>\n",
       "      <td>66</td>\n",
       "    </tr>\n",
       "    <tr>\n",
       "      <th>1</th>\n",
       "      <td>4</td>\n",
       "    </tr>\n",
       "    <tr>\n",
       "      <th rowspan=\"2\" valign=\"top\">3</th>\n",
       "      <th>0</th>\n",
       "      <td>6</td>\n",
       "    </tr>\n",
       "    <tr>\n",
       "      <th>1</th>\n",
       "      <td>2</td>\n",
       "    </tr>\n",
       "    <tr>\n",
       "      <th>4</th>\n",
       "      <th>0</th>\n",
       "      <td>1</td>\n",
       "    </tr>\n",
       "    <tr>\n",
       "      <th rowspan=\"18\" valign=\"top\">Show-Up</th>\n",
       "      <th rowspan=\"9\" valign=\"top\">F</th>\n",
       "      <th rowspan=\"2\" valign=\"top\">0</th>\n",
       "      <th>0</th>\n",
       "      <td>122983</td>\n",
       "    </tr>\n",
       "    <tr>\n",
       "      <th>1</th>\n",
       "      <td>15364</td>\n",
       "    </tr>\n",
       "    <tr>\n",
       "      <th rowspan=\"2\" valign=\"top\">1</th>\n",
       "      <th>0</th>\n",
       "      <td>1883</td>\n",
       "    </tr>\n",
       "    <tr>\n",
       "      <th>1</th>\n",
       "      <td>191</td>\n",
       "    </tr>\n",
       "    <tr>\n",
       "      <th rowspan=\"2\" valign=\"top\">2</th>\n",
       "      <th>0</th>\n",
       "      <td>158</td>\n",
       "    </tr>\n",
       "    <tr>\n",
       "      <th>1</th>\n",
       "      <td>18</td>\n",
       "    </tr>\n",
       "    <tr>\n",
       "      <th rowspan=\"2\" valign=\"top\">3</th>\n",
       "      <th>0</th>\n",
       "      <td>9</td>\n",
       "    </tr>\n",
       "    <tr>\n",
       "      <th>1</th>\n",
       "      <td>4</td>\n",
       "    </tr>\n",
       "    <tr>\n",
       "      <th>4</th>\n",
       "      <th>0</th>\n",
       "      <td>4</td>\n",
       "    </tr>\n",
       "    <tr>\n",
       "      <th rowspan=\"9\" valign=\"top\">M</th>\n",
       "      <th rowspan=\"2\" valign=\"top\">0</th>\n",
       "      <th>0</th>\n",
       "      <td>63972</td>\n",
       "    </tr>\n",
       "    <tr>\n",
       "      <th>1</th>\n",
       "      <td>2921</td>\n",
       "    </tr>\n",
       "    <tr>\n",
       "      <th rowspan=\"2\" valign=\"top\">1</th>\n",
       "      <th>0</th>\n",
       "      <td>1502</td>\n",
       "    </tr>\n",
       "    <tr>\n",
       "      <th>1</th>\n",
       "      <td>93</td>\n",
       "    </tr>\n",
       "    <tr>\n",
       "      <th rowspan=\"2\" valign=\"top\">2</th>\n",
       "      <th>0</th>\n",
       "      <td>132</td>\n",
       "    </tr>\n",
       "    <tr>\n",
       "      <th>1</th>\n",
       "      <td>13</td>\n",
       "    </tr>\n",
       "    <tr>\n",
       "      <th rowspan=\"2\" valign=\"top\">3</th>\n",
       "      <th>0</th>\n",
       "      <td>16</td>\n",
       "    </tr>\n",
       "    <tr>\n",
       "      <th>1</th>\n",
       "      <td>1</td>\n",
       "    </tr>\n",
       "    <tr>\n",
       "      <th>4</th>\n",
       "      <th>0</th>\n",
       "      <td>5</td>\n",
       "    </tr>\n",
       "  </tbody>\n",
       "</table>\n",
       "</div>"
      ],
      "text/plain": [
       "                                         0\n",
       "Status  Gender Handcap Scholarship        \n",
       "No-Show F      0       0             50615\n",
       "                       1              8433\n",
       "               1       0               661\n",
       "                       1               122\n",
       "               2       0                44\n",
       "                       1                14\n",
       "               3       0                 1\n",
       "               4       0                 1\n",
       "        M      0       0             28256\n",
       "                       1              1859\n",
       "               1       0               616\n",
       "                       1                30\n",
       "               2       0                66\n",
       "                       1                 4\n",
       "               3       0                 6\n",
       "                       1                 2\n",
       "               4       0                 1\n",
       "Show-Up F      0       0            122983\n",
       "                       1             15364\n",
       "               1       0              1883\n",
       "                       1               191\n",
       "               2       0               158\n",
       "                       1                18\n",
       "               3       0                 9\n",
       "                       1                 4\n",
       "               4       0                 4\n",
       "        M      0       0             63972\n",
       "                       1              2921\n",
       "               1       0              1502\n",
       "                       1                93\n",
       "               2       0               132\n",
       "                       1                13\n",
       "               3       0                16\n",
       "                       1                 1\n",
       "               4       0                 5"
      ]
     },
     "execution_count": 13,
     "metadata": {},
     "output_type": "execute_result"
    }
   ],
   "source": [
    "#Grouping the Gender , Status , Handicap and Scholarship\n",
    "#No-Scholarship--0&&Scholarship--1\n",
    "df.groupby(['Status','Gender','Handcap',\n",
    "            'Scholarship']).size().to_frame()"
   ]
  },
  {
   "cell_type": "code",
   "execution_count": 63,
   "metadata": {
    "collapsed": false
   },
   "outputs": [
    {
     "data": {
      "image/png": "[encoded data removed]",
      "text/plain": [
       "<matplotlib.figure.Figure at 0x1ea566599e8>"
      ]
     },
     "metadata": {},
     "output_type": "display_data"
    }
   ],
   "source": [
    "#How does the Status, Age and Gender distributed ?\n",
    "groups = df[['Gender', 'Status','Age']].groupby(['Gender', \n",
    "                                                    'Status']).count()\n",
    "groups = groups.groupby(level=0).apply(lambda x: 100 *\n",
    "                                       x / float(x.sum())).reset_index()\n",
    "std = groups.query('Status==\"No-Show\"')['Age'].std()\n",
    "impact = {}\n",
    "impact['Gender'] = std\n",
    "f,ax = plt.subplots(figsize = (8, 6))\n",
    "sns.barplot(y=\"Age\", x=\"Gender\", hue=\"Status\", data=groups)\n",
    "sns.plt.show()"
   ]
  },
  {
   "cell_type": "code",
   "execution_count": 13,
   "metadata": {
    "collapsed": false
   },
   "outputs": [
    {
     "data": {
      "image/png": "[encoded data removed]",
      "text/plain": [
       "<matplotlib.figure.Figure at 0x27a2840c2e8>"
      ]
     },
     "metadata": {},
     "output_type": "display_data"
    }
   ],
   "source": [
    "#Predict Who Vist the Doctor More Often\n",
    "df_1 = df[df.Status == 'Show-Up']\n",
    "range_df = pd.DataFrame()\n",
    "range_df['Age'] = range(100)\n",
    "men = range_df.Age.apply(lambda x: len(df[(df.Age == x) & \n",
    "                                          (df.Gender == 'M')]))\n",
    "women = range_df.Age.apply(lambda x: len(df[(df.Age == x) & \n",
    "                                            (df.Gender == 'F')]))\n",
    "f,ax = plt.subplots(figsize = (8, 6))\n",
    "plt.plot(range(100),men, 'b')\n",
    "plt.plot(range(100),women, color = 'g')\n",
    "plt.legend(['M','F'])\n",
    "plt.xlabel('Age')\n",
    "plt.title('Who Vist the doctor More ?')\n",
    "plt.show()"
   ]
  },
  {
   "cell_type": "markdown",
   "metadata": {},
   "source": [
    "###### The above analysis shows that Women Visit's the doctor more often then Men."
   ]
  },
  {
   "cell_type": "code",
   "execution_count": 21,
   "metadata": {
    "collapsed": true
   },
   "outputs": [],
   "source": [
    "# Create categories\n",
    "# We consider Immediate for within 2 days, then within the week, \n",
    "# within two weeks, within, the month, within the trimester, \n",
    "# within half year and everything above\n",
    "bins = [-99999, -180, -90, -30, -14, -7, -2, 0]\n",
    "labels = [\"More than half year\", \"Half year\", \"Trimester\", \n",
    "          \"Month\", \"TwoWeeks\", \"Week\", \"Immediate\"]\n",
    "wait_period = pd.cut(df.AwaitingTime, bins, labels=labels)\n",
    "df['Wait_period'] = wait_period"
   ]
  },
  {
   "cell_type": "code",
   "execution_count": 22,
   "metadata": {
    "collapsed": false
   },
   "outputs": [
    {
     "data": {
      "image/png": "[encoded data removed]",
      "text/plain": [
       "<matplotlib.figure.Figure at 0x1ea55f185c0>"
      ]
     },
     "metadata": {},
     "output_type": "display_data"
    }
   ],
   "source": [
    "# How does the Wait_Period distribute?\n",
    "groups = df.groupby(['Wait_period'])\n",
    "gps = groups.size()\n",
    "f,ax = plt.subplots(figsize = (8, 6))\n",
    "sns.barplot(x=gps.index.tolist(), y=gps.values)\n",
    "sns.plt.show()"
   ]
  },
  {
   "cell_type": "code",
   "execution_count": 62,
   "metadata": {
    "collapsed": false
   },
   "outputs": [
    {
     "data": {
      "image/png": "[encoded data removed]",
      "text/plain": [
       "<matplotlib.figure.Figure at 0x1ea55252898>"
      ]
     },
     "metadata": {},
     "output_type": "display_data"
    }
   ],
   "source": [
    "#How does the waiting period distributed in Status, Age and Wait period?\n",
    "groups = df[['Wait_period', 'Status','Age']].groupby(['Wait_period', \n",
    "                                                         'Status']).count()\n",
    "groups = groups = groups.groupby(level=0).apply(lambda x: 100 * x / float\n",
    "                                                (x.sum())).reset_index()\n",
    "std = groups.query('Status==\"No-Show\"')['Age'].std()\n",
    "impact_1 = {}\n",
    "impact_1['Wait_period'] = std\n",
    "f,ax = plt.subplots(figsize = (8, 6))\n",
    "sns.barplot(y=\"Age\", x=\"Wait_period\", hue=\"Status\", data=groups)\n",
    "sns.plt.show()"
   ]
  },
  {
   "cell_type": "markdown",
   "metadata": {},
   "source": [
    "###### As there is not much data available for appointment scheduled above a trimester, the results are unlikely to be reliable."
   ]
  },
  {
   "cell_type": "code",
   "execution_count": 24,
   "metadata": {
    "collapsed": false
   },
   "outputs": [
    {
     "data": {
      "image/png": "[encoded data removed]",
      "text/plain": [
       "<matplotlib.figure.Figure at 0x1ea500bc2b0>"
      ]
     },
     "metadata": {},
     "output_type": "display_data"
    }
   ],
   "source": [
    "# How does the Day of the week distribute?\n",
    "groups = df.groupby(['DayOfTheWeek'])\n",
    "gps = groups.size()\n",
    "f,ax = plt.subplots(figsize = (8, 6))\n",
    "sns.barplot(x=gps.index.tolist(), y=gps.values)\n",
    "sns.plt.show()"
   ]
  },
  {
   "cell_type": "code",
   "execution_count": 61,
   "metadata": {
    "collapsed": false
   },
   "outputs": [
    {
     "data": {
      "image/png": "[encoded data removed]",
      "text/plain": [
       "<matplotlib.figure.Figure at 0x1ea55074438>"
      ]
     },
     "metadata": {},
     "output_type": "display_data"
    }
   ],
   "source": [
    "#How does the Day of the Week and Status is distributed in the Week?\n",
    "groups = df[['DayOfTheWeek', 'Status','Age']].groupby([\n",
    "        'DayOfTheWeek', 'Status']).count()\n",
    "groups = groups.groupby(level=0).apply(lambda x: 100 * x /\n",
    "                                       float(x.sum())).reset_index()\n",
    "std = groups.query('Status==\"No-Show\"')['Age'].std()\n",
    "impact_2 = {}\n",
    "impact_2['DayOfTheWeek'] = std\n",
    "f,ax = plt.subplots(figsize = (8, 6))\n",
    "sns.barplot(y=\"Age\", x=\"DayOfTheWeek\", hue=\"Status\", data=groups)\n",
    "sns.plt.show()"
   ]
  },
  {
   "cell_type": "markdown",
   "metadata": {},
   "source": [
    "###### The Weekend days see far less appointments than the other days and it should be considered unreliable as they do have very few data points. The no-show rate is slightly lower during the mid-week days(Tuesday - Thursdays) than it is in Monday or Friday."
   ]
  },
  {
   "cell_type": "code",
   "execution_count": 26,
   "metadata": {
    "collapsed": false
   },
   "outputs": [
    {
     "data": {
      "image/png": "[encoded data removed]",
      "text/plain": [
       "<matplotlib.figure.Figure at 0x1ea500bc0b8>"
      ]
     },
     "metadata": {},
     "output_type": "display_data"
    }
   ],
   "source": [
    "#How does the appointment month distribute?\n",
    "# Extract the month of the visit\n",
    "df['Month'] = df['ApointmentData'].apply(lambda x: x[5:7])\n",
    "groups = df.groupby(['Month'])\n",
    "gps = groups.size()\n",
    "f,ax = plt.subplots(figsize = (8, 6))\n",
    "sns.barplot(x=gps.index.tolist(), y=gps.values)\n",
    "sns.plt.show()"
   ]
  },
  {
   "cell_type": "code",
   "execution_count": 60,
   "metadata": {
    "collapsed": false
   },
   "outputs": [
    {
     "data": {
      "image/png": "[encoded data removed]",
      "text/plain": [
       "<matplotlib.figure.Figure at 0x1ea59a3c518>"
      ]
     },
     "metadata": {},
     "output_type": "display_data"
    }
   ],
   "source": [
    "#How doe the appointment month and Status distributed?\n",
    "groups = df[['Month', 'Status','Age']].groupby(['Month',\n",
    "                                                   'Status']).count()\n",
    "groups = groups.groupby(level=0).apply(lambda x: 100 * x / \n",
    "                                       float(x.sum())).reset_index()\n",
    "std = groups.query('Status==\"No-Show\"')['Age'].std()\n",
    "impact_3 = {}\n",
    "impact_3['Month'] = std\n",
    "f,ax = plt.subplots(figsize = (8, 6))\n",
    "sns.barplot(y=\"Age\", x=\"Month\", hue=\"Status\", data=groups)\n",
    "sns.plt.show()"
   ]
  },
  {
   "cell_type": "markdown",
   "metadata": {},
   "source": [
    "###### The data is well-balanced for the months of the appointment. Little Peak in the No-Show-Up around december, april, june and july."
   ]
  },
  {
   "cell_type": "code",
   "execution_count": 28,
   "metadata": {
    "collapsed": false
   },
   "outputs": [
    {
     "data": {
      "image/png": "[encoded data removed]",
      "text/plain": [
       "<matplotlib.figure.Figure at 0x1ea592e1b00>"
      ]
     },
     "metadata": {},
     "output_type": "display_data"
    }
   ],
   "source": [
    "# How does the registration hour distribute?\n",
    "df['hour'] = df['AppointmentRegistration'].apply(lambda x: x[11:13])\n",
    "groups = df.groupby(['hour'])\n",
    "gps = groups.size()\n",
    "f,ax = plt.subplots(figsize = (8, 6))\n",
    "sns.barplot(x=gps.index.tolist(), y=gps.values)\n",
    "sns.plt.show()"
   ]
  },
  {
   "cell_type": "code",
   "execution_count": 59,
   "metadata": {
    "collapsed": false
   },
   "outputs": [
    {
     "data": {
      "image/png": "[encoded data removed]",
      "text/plain": [
       "<matplotlib.figure.Figure at 0x1ea54b67438>"
      ]
     },
     "metadata": {},
     "output_type": "display_data"
    }
   ],
   "source": [
    "#How does the Registration hour and status distributed?\n",
    "groups = df[['hour', 'Status','Age']].groupby(['hour', \n",
    "                                                       'Status']).count()\n",
    "groups = groups.groupby(level=0).apply(lambda x: 100 * x /\n",
    "                                       float(x.sum())).reset_index()\n",
    "std = groups.query('Status==\"No-Show\"')['Age'].std()\n",
    "impact_4 = {}\n",
    "impact_4['hour'] = std\n",
    "f,ax = plt.subplots(figsize = (8, 6))\n",
    "sns.barplot(y=\"Age\", x=\"hour\", hue=\"Status\", data=groups)\n",
    "sns.plt.show()"
   ]
  },
  {
   "cell_type": "code",
   "execution_count": 30,
   "metadata": {
    "collapsed": false
   },
   "outputs": [
    {
     "data": {
      "image/png": "[encoded data removed]",
      "text/plain": [
       "<matplotlib.figure.Figure at 0x1ea56594ba8>"
      ]
     },
     "metadata": {},
     "output_type": "display_data"
    }
   ],
   "source": [
    "#How does the Age Category distributed?\n",
    "bins = [0,2,6,12,18,40,65,np.inf]\n",
    "labels=[\"Baby\",\"Infant\",\"Child\",\"Teenager\",\"Young adults\", \"Adult\",\"Elder\"]\n",
    "age_cat = pd.cut(df.Age,bins,labels=labels)\n",
    "df['Age_cat'] = age_cat\n",
    "\n",
    "groups = df.groupby(['Age_cat'])\n",
    "gps = groups.size()\n",
    "f,ax = plt.subplots(figsize = (8, 6))\n",
    "sns.barplot(x=gps.index.tolist(), y=gps.values)\n",
    "sns.plt.show()"
   ]
  },
  {
   "cell_type": "code",
   "execution_count": 58,
   "metadata": {
    "collapsed": false,
    "scrolled": true
   },
   "outputs": [
    {
     "data": {
      "image/png": "[encoded data removed]",
      "text/plain": [
       "<matplotlib.figure.Figure at 0x1ea567cb4a8>"
      ]
     },
     "metadata": {},
     "output_type": "display_data"
    }
   ],
   "source": [
    "#How does the Age_Category, Age and Status distributed?\n",
    "groups = df[['Age_cat', 'Status','Age']].groupby(['Age_cat',\n",
    "                                                     'Status']).count()\n",
    "groups = groups.groupby(level=0).apply(lambda x: 100 * x / \n",
    "                                       float(x.sum())).reset_index()\n",
    "std = groups.query('Status==\"No-Show\"')['Age'].std()\n",
    "impact_5 = {}\n",
    "impact_5['Age_cat'] = std\n",
    "f,ax = plt.subplots(figsize = (8, 6))\n",
    "sns.barplot(y=\"Age\", x=\"Age_cat\", hue=\"Status\", data = groups)\n",
    "sns.plt.show()"
   ]
  },
  {
   "cell_type": "markdown",
   "metadata": {},
   "source": [
    "###### The only two categories that tend to better than average when it comes to respecting an appointment are the \"Adult\" and \"Elder\" categories."
   ]
  },
  {
   "cell_type": "code",
   "execution_count": 32,
   "metadata": {
    "collapsed": false
   },
   "outputs": [
    {
     "data": {
      "image/png": "[encoded data removed]",
      "text/plain": [
       "<matplotlib.figure.Figure at 0x1ea565948d0>"
      ]
     },
     "metadata": {},
     "output_type": "display_data"
    }
   ],
   "source": [
    "# How does the SMS Reminder distribute?\n",
    "groups = df.groupby(['Sms_Reminder'])\n",
    "gps = groups.size()\n",
    "f,ax = plt.subplots(figsize = (8, 6))\n",
    "sns.barplot(x=gps.index.tolist(), y=gps.values)\n",
    "sns.plt.show()"
   ]
  },
  {
   "cell_type": "code",
   "execution_count": 56,
   "metadata": {
    "collapsed": false,
    "scrolled": false
   },
   "outputs": [
    {
     "data": {
      "image/png": "[encoded data removed]",
      "text/plain": [
       "<matplotlib.figure.Figure at 0x1ea4f4e2668>"
      ]
     },
     "metadata": {},
     "output_type": "display_data"
    }
   ],
   "source": [
    "# How does the SMS Reminder, Age and Status distribute?\n",
    "groups = df[['Sms_Reminder', 'Status','Age']].groupby([\n",
    "        'Sms_Reminder', 'Status']).count()\n",
    "groups = groups.groupby(level=0).apply(lambda x: 100 * x /\n",
    "                                       float(x.sum())).reset_index()\n",
    "std = groups.query('Status==\"No-Show\"')['Age'].std()\n",
    "impact_6 = {}\n",
    "impact_6['Sms_reminder'] = std\n",
    "f,ax = plt.subplots(figsize = (8, 6))\n",
    "sns.barplot(y=\"Age\", x=\"Sms_Reminder\", hue=\"Status\", data=groups)\n",
    "sns.plt.show()"
   ]
  },
  {
   "cell_type": "markdown",
   "metadata": {},
   "source": [
    "###### It seems that this does not work: the no-show rate is almost the same with or without a reminder."
   ]
  },
  {
   "cell_type": "code",
   "execution_count": 34,
   "metadata": {
    "collapsed": false
   },
   "outputs": [
    {
     "data": {
      "image/png": "[encoded data removed]",
      "text/plain": [
       "<matplotlib.figure.Figure at 0x1ea56678a20>"
      ]
     },
     "metadata": {},
     "output_type": "display_data"
    }
   ],
   "source": [
    "# How does the Diabetes distribute?\n",
    "groups = df.groupby(['Diabetes'])\n",
    "gps = groups.size()\n",
    "f,ax = plt.subplots(figsize = (8, 6))\n",
    "sns.barplot(x=gps.index.tolist(), y=gps.values)\n",
    "sns.plt.show()"
   ]
  },
  {
   "cell_type": "code",
   "execution_count": 54,
   "metadata": {
    "collapsed": false
   },
   "outputs": [
    {
     "data": {
      "image/png": "[encoded data removed]",
      "text/plain": [
       "<matplotlib.figure.Figure at 0x1ea4f3f5278>"
      ]
     },
     "metadata": {},
     "output_type": "display_data"
    }
   ],
   "source": [
    "# How do the Diabetes, Age and Status distribtute ?\n",
    "groups = df[['Diabetes', 'Status','Age']].groupby(['Diabetes',\n",
    "                                                       'Status']).count()\n",
    "groups = groups.groupby(level=0).apply(lambda x: 100 * x /\n",
    "                                       float(x.sum())).reset_index()\n",
    "std = groups.query('Status==\"No-Show\"')['Age'].std()\n",
    "impact_7 = {}\n",
    "impact_7['Diabetes'] = std\n",
    "f,ax = plt.subplots(figsize = (8, 6))\n",
    "sns.barplot(y=\"Age\", x=\"Diabetes\", hue=\"Status\", data=groups)\n",
    "sns.plt.show()"
   ]
  },
  {
   "cell_type": "markdown",
   "metadata": {},
   "source": [
    "###### Without looking at the data, my opinion is that the attendance will be higher for people suffering from that pathology than for the others. The reason being that diabetics require constant care and monitoring, and that some of the medicine needed is available only through prescription.\n",
    "###### About 10% of the entries in the dataset corresponds to a diabetic patient. The attendance of that population is better than the average - about 25% of the appointments resulted in a patient not showing up, which is surprisingly high regarding our expectation of diabetics being a lot more conscious about meeting their praticians."
   ]
  },
  {
   "cell_type": "code",
   "execution_count": 36,
   "metadata": {
    "collapsed": false
   },
   "outputs": [
    {
     "data": {
      "image/png": "[encoded data removed]",
      "text/plain": [
       "<matplotlib.figure.Figure at 0x1ea5649e518>"
      ]
     },
     "metadata": {},
     "output_type": "display_data"
    }
   ],
   "source": [
    "# How does the Diabetes distribute?\n",
    "groups = df.groupby(['HiperTension'])\n",
    "gps = groups.size()\n",
    "f,ax = plt.subplots(figsize = (8, 6))\n",
    "sns.barplot(x=gps.index.tolist(), y=gps.values)\n",
    "sns.plt.show()"
   ]
  },
  {
   "cell_type": "code",
   "execution_count": 53,
   "metadata": {
    "collapsed": false
   },
   "outputs": [
    {
     "data": {
      "image/png": "[encoded data removed]",
      "text/plain": [
       "<matplotlib.figure.Figure at 0x1ea55133f28>"
      ]
     },
     "metadata": {},
     "output_type": "display_data"
    }
   ],
   "source": [
    "#How does the Diabetes, Age and Status distributed ?\n",
    "groups = df[['HiperTension', 'Status','Age']].groupby(['HiperTension',\n",
    "                                                 'Status']).count()\n",
    "groups = groups.groupby(level=0).apply(lambda x: 100 * x /\n",
    "                                       float(x.sum())).reset_index()\n",
    "std = groups.query('Status==\"No-Show\"')['Age'].std()\n",
    "impact_8 = {}\n",
    "impact_8['HiperTension'] = std\n",
    "f,ax = plt.subplots(figsize = (8, 6))\n",
    "sns.barplot(y=\"Age\", x=\"HiperTension\", hue=\"Status\", data=groups)\n",
    "sns.plt.show()"
   ]
  },
  {
   "cell_type": "markdown",
   "metadata": {},
   "source": [
    "###### Again, a pathology that requires a close monitoring and care, and that requires prescription medicine.About 20% of the appointments in the dataset are related to someone who suffers from it.As for diabetes, the attendance is better than the average, again around 25%."
   ]
  },
  {
   "cell_type": "code",
   "execution_count": 39,
   "metadata": {
    "collapsed": false
   },
   "outputs": [
    {
     "data": {
      "image/png": "[encoded data removed]",
      "text/plain": [
       "<matplotlib.figure.Figure at 0x1ea551af0f0>"
      ]
     },
     "metadata": {},
     "output_type": "display_data"
    }
   ],
   "source": [
    "# How does the Tuberculosis distribute?\n",
    "groups = df.groupby(['Tuberculosis'])\n",
    "gps = groups.size()\n",
    "f,ax = plt.subplots(figsize = (8, 6))\n",
    "sns.barplot(x=gps.index.tolist(), y=gps.values)\n",
    "sns.plt.show()"
   ]
  },
  {
   "cell_type": "code",
   "execution_count": 52,
   "metadata": {
    "collapsed": false
   },
   "outputs": [
    {
     "data": {
      "image/png": "[encoded data removed]",
      "text/plain": [
       "<matplotlib.figure.Figure at 0x1ea5654c6a0>"
      ]
     },
     "metadata": {},
     "output_type": "display_data"
    }
   ],
   "source": [
    "# How does the Tuberculosis, Age and Status distribute ?\n",
    "groups = df[['Tuberculosis', 'Status','Age']].groupby(['Tuberculosis',\n",
    "                                                    'Status']).count()\n",
    "groups = groups.groupby(level=0).apply(lambda x: 100 * x / \n",
    "                                       float(x.sum())).reset_index()\n",
    "std = groups.query('Status==\"No-Show\"')['Age'].std()\n",
    "impact_9 = {}\n",
    "impact_9['Tuberculosis'] = std\n",
    "f,ax = plt.subplots(figsize = (8, 6))\n",
    "sns.barplot(y=\"Age\", x=\"Tuberculosis\", hue=\"Status\", data=groups)\n",
    "sns.plt.show()"
   ]
  },
  {
   "cell_type": "markdown",
   "metadata": {},
   "source": [
    "###### The dataset associated with tuberculosis is very small, only 135 data points, which could be linked to the incidence rate of this disease.Appointments made by patient with Tuberculosis tend to end in a no-show more often than average. This could be due to several things, such as when the patient feels better he does not feel compelled to attend to a follow-up appointment. Another potential explanation is that patients treated for TB die before the follow-up appointment"
   ]
  },
  {
   "cell_type": "code",
   "execution_count": 41,
   "metadata": {
    "collapsed": false
   },
   "outputs": [
    {
     "data": {
      "image/png": "[encoded data removed]",
      "text/plain": [
       "<matplotlib.figure.Figure at 0x1ea54d461d0>"
      ]
     },
     "metadata": {},
     "output_type": "display_data"
    }
   ],
   "source": [
    "# How does the Handicap distribute?\n",
    "groups = df.groupby(['Handcap'])\n",
    "gps = groups.size()\n",
    "f,ax = plt.subplots(figsize = (8, 6))\n",
    "sns.barplot(x=gps.index.tolist(), y=gps.values)\n",
    "sns.plt.show()"
   ]
  },
  {
   "cell_type": "code",
   "execution_count": 50,
   "metadata": {
    "collapsed": false
   },
   "outputs": [
    {
     "data": {
      "image/png": "[encoded data removed]",
      "text/plain": [
       "<matplotlib.figure.Figure at 0x1ea55088f60>"
      ]
     },
     "metadata": {},
     "output_type": "display_data"
    }
   ],
   "source": [
    "# How does the Handicap, Age and Status distribute ?\n",
    "groups = df[['Handcap', 'Status','Age']].groupby(['Handcap',\n",
    "                                                    'Status']).count()\n",
    "groups = groups.groupby(level=0).apply(lambda x: 100 * x / \n",
    "                                       float(x.sum())).reset_index()\n",
    "std = groups.query('Status==\"No-Show\"')['Age'].std()\n",
    "impact_9 = {}\n",
    "impact_9['Hnadcap'] = std\n",
    "f,ax = plt.subplots(figsize = (8, 6))\n",
    "sns.barplot(y=\"Age\", x=\"Handcap\", hue=\"Status\", data=groups)\n",
    "sns.plt.show()"
   ]
  },
  {
   "cell_type": "markdown",
   "metadata": {
    "collapsed": true
   },
   "source": [
    "###### This can take values from 0 to 4. The \"non 0\" values are very few in the dataset, with less than 6,000 data points.For these, the attendance seems to be better than average, with values 3 and 4 not reliable enough to be of use. Later, we will group this into \"null handicap\" and \"non-null handicap\"."
   ]
  },
  {
   "cell_type": "code",
   "execution_count": 96,
   "metadata": {
    "collapsed": false
   },
   "outputs": [
    {
     "data": {
      "image/png": "[encoded data removed]",
      "text/plain": [
       "<matplotlib.figure.Figure at 0x148edf84eb8>"
      ]
     },
     "metadata": {},
     "output_type": "display_data"
    }
   ],
   "source": [
    "# How does the scholarship distribute?\n",
    "groups = df.groupby(['Scholarship'])\n",
    "gps = groups.size()\n",
    "f,ax = plt.subplots(figsize = (8, 6))\n",
    "sns.barplot(x=gps.index.tolist(), y=gps.values)\n",
    "sns.plt.show()"
   ]
  },
  {
   "cell_type": "code",
   "execution_count": 51,
   "metadata": {
    "collapsed": false
   },
   "outputs": [
    {
     "data": {
      "image/png": "[encoded data removed]",
      "text/plain": [
       "<matplotlib.figure.Figure at 0x1ea55046e80>"
      ]
     },
     "metadata": {},
     "output_type": "display_data"
    }
   ],
   "source": [
    "# How does the Scholarship, Age and Status distribute ?\n",
    "groups = df[['Scholarship', 'Status','Age']].groupby(['Scholarship',\n",
    "                                                    'Status']).count()\n",
    "groups = groups.groupby(level=0).apply(lambda x: 100 * x / \n",
    "                                       float(x.sum())).reset_index()\n",
    "std = groups.query('Status==\"No-Show\"')['Age'].std()\n",
    "impact_9 = {}\n",
    "impact_9['Scholarship'] = std\n",
    "f,ax = plt.subplots(figsize = (8, 6))\n",
    "sns.barplot(y=\"Age\", x=\"Scholarship\", hue=\"Status\", data=groups)\n",
    "sns.plt.show()"
   ]
  },
  {
   "cell_type": "markdown",
   "metadata": {
    "collapsed": true
   },
   "source": [
    "###### The proportion of appointment made with alcoholism reported is less than 10%.These appointments are more often ignored than on average."
   ]
  },
  {
   "cell_type": "code",
   "execution_count": 45,
   "metadata": {
    "collapsed": false
   },
   "outputs": [
    {
     "data": {
      "image/png": "[encoded data removed]",
      "text/plain": [
       "<matplotlib.figure.Figure at 0x1ea4f445710>"
      ]
     },
     "metadata": {},
     "output_type": "display_data"
    }
   ],
   "source": [
    "# How does the alcoholism distribute?\n",
    "groups = df.groupby(['Alcoolism'])\n",
    "gps = groups.size()\n",
    "f,ax = plt.subplots(figsize = (8, 6))\n",
    "sns.barplot(x=gps.index.tolist(), y=gps.values)\n",
    "sns.plt.show()"
   ]
  },
  {
   "cell_type": "code",
   "execution_count": 66,
   "metadata": {
    "collapsed": false
   },
   "outputs": [
    {
     "data": {
      "image/png": "[encoded data removed]",
      "text/plain": [
       "<matplotlib.figure.Figure at 0x1ea56559160>"
      ]
     },
     "metadata": {},
     "output_type": "display_data"
    }
   ],
   "source": [
    "# How does the Scholarship, Age and Status distribute ?\n",
    "groups = df[['Alcoolism', 'Status','Age']].groupby(['Alcoolism', 'Status']).count()\n",
    "groups = groups.groupby(level=0).apply(lambda x: 100 * x / float(x.sum())).reset_index()\n",
    "std = groups.query('Status==\"No-Show\"')['Age'].std()\n",
    "impact['Alcoolism'] = std\n",
    "f,ax = plt.subplots(figsize = (8, 6))\n",
    "sns.barplot(y=\"Age\", x=\"Alcoolism\", hue=\"Status\", data=groups)\n",
    "sns.plt.show()"
   ]
  },
  {
   "cell_type": "markdown",
   "metadata": {},
   "source": [
    "###### The proportion of appointment made with alcoholism reported is less than 10%. These appointments are more often ignored than on average."
   ]
  },
  {
   "cell_type": "code",
   "execution_count": 65,
   "metadata": {
    "collapsed": false
   },
   "outputs": [
    {
     "data": {
      "image/png": "[encoded data removed]",
      "text/plain": [
       "<matplotlib.figure.Figure at 0x1ea566fdcc0>"
      ]
     },
     "metadata": {},
     "output_type": "display_data"
    }
   ],
   "source": [
    "# How does the smoking distribute?\n",
    "groups = df.groupby(['Smokes'])\n",
    "gps = groups.size()\n",
    "f,ax = plt.subplots(figsize = (8, 6))\n",
    "sns.barplot(x=gps.index.tolist(), y=gps.values)\n",
    "sns.plt.show()"
   ]
  },
  {
   "cell_type": "code",
   "execution_count": 69,
   "metadata": {
    "collapsed": false
   },
   "outputs": [
    {
     "data": {
      "image/png": "[encoded data removed]",
      "text/plain": [
       "<matplotlib.figure.Figure at 0x1ea4f4457b8>"
      ]
     },
     "metadata": {},
     "output_type": "display_data"
    }
   ],
   "source": [
    "# How does the Smoker, Age and Status distribute ?\n",
    "groups = df[['Age', 'Status','Smokes']].groupby(['Smokes', 'Status']).count()\n",
    "groups = groups.groupby(level=0).apply(lambda x: 100 * x / float(x.sum())).reset_index()\n",
    "std = groups.query('Status==\"No-Show\"')['Age'].std()\n",
    "impact['Smokes'] = std\n",
    "f,ax = plt.subplots(figsize = (8, 6))\n",
    "sns.barplot(y=\"Age\", x=\"Smokes\", hue=\"Status\", data=groups)\n",
    "sns.plt.show()"
   ]
  },
  {
   "cell_type": "markdown",
   "metadata": {},
   "source": [
    "###### This is a bit more prevalent than alcoholism - potentially because it is more socially acceptable to smoke than to be alcoholic. The attendance is also worse for the appointments made by patients who reported being smokers than on average."
   ]
  },
  {
   "cell_type": "code",
   "execution_count": 198,
   "metadata": {
    "collapsed": false
   },
   "outputs": [
    {
     "data": {
      "image/png": "[encoded data removed]",
      "text/plain": [
       "<matplotlib.figure.Figure at 0x2590bf38cf8>"
      ]
     },
     "metadata": {},
     "output_type": "display_data"
    }
   ],
   "source": [
    "#Heat Map to see the correlation between diffrent variables\n",
    "#Find the correlation between the different varaibles in the datasets\n",
    "cormat = df.corr()\n",
    "\n",
    "#Set uo the matplolib figure\n",
    "f, ax = plt.subplots(figsize=(12, 9))\n",
    "\n",
    "#Draw the heatmap using seaborn\n",
    "sns.heatmap(cormat, vmax=0.8, square=True)\n",
    "sns.plt.show()"
   ]
  },
  {
   "cell_type": "code",
   "execution_count": 21,
   "metadata": {
    "collapsed": false
   },
   "outputs": [],
   "source": [
    "from sklearn.cross_validation import train_test_split\n",
    "from sklearn.ensemble import RandomForestClassifier\n",
    "from sklearn.linear_model import LogisticRegression\n",
    "from sklearn.preprocessing import StandardScaler\n",
    "from sklearn.metrics import accuracy_score\n",
    "from sklearn.neighbors import KNeighborsClassifier\n",
    "from sklearn.tree import DecisionTreeClassifier\n",
    "from sklearn.naive_bayes import GaussianNB\n",
    "from sklearn.linear_model import Perceptron\n",
    "from sklearn.linear_model import SGDClassifier\n",
    "from sklearn.svm import LinearSVC\n",
    "from sklearn import tree\n",
    "from sklearn.metrics import accuracy_score\n",
    "from sklearn import preprocessing\n",
    "from sklearn.metrics import roc_auc_score\n",
    "from sklearn.metrics import classification_report\n",
    "from sklearn.metrics import roc_curve"
   ]
  },
  {
   "cell_type": "code",
   "execution_count": 10,
   "metadata": {
    "collapsed": false
   },
   "outputs": [],
   "source": [
    "data = pd.read_csv(\"No-show-Issue-Comma-300k.csv\")\n",
    "data = pd.get_dummies(data.drop([\"AppointmentRegistration\", \"ApointmentData\"], \n",
    "                                axis=1)).drop([\"Status_No-Show\"], axis=1)\n",
    "y = data[\"Status_Show-Up\"].values\n",
    "x = data.drop([\"Status_Show-Up\"], axis=1).values\n",
    "scaler = StandardScaler()\n",
    "le = preprocessing.LabelEncoder()\n",
    "Y = le.fit_transform(y)\n",
    "X = scaler.fit_transform(x)"
   ]
  },
  {
   "cell_type": "code",
   "execution_count": 11,
   "metadata": {
    "collapsed": false
   },
   "outputs": [
    {
     "name": "stdout",
     "output_type": "stream",
     "text": [
      "Features sorted by their score:\n",
      "[(0.52559999999999996, 'Age'), (0.3659, 'AwaitingTime'), (0.018700000000000001, 'Sms_Reminder'), (0.0123, 'HiperTension'), (0.0101, 'Handcap'), (0.0095999999999999992, 'Diabetes'), (0.0082000000000000007, 'Scholarship'), (0.0077000000000000002, 'Smokes'), (0.0055999999999999999, 'Alcoolism'), (0.0053, 'DayOfTheWeek_Friday'), (0.0051000000000000004, 'DayOfTheWeek_Wednesday'), (0.0050000000000000001, 'Gender_M'), (0.0047999999999999996, 'Gender_F'), (0.0047999999999999996, 'DayOfTheWeek_Thursday'), (0.0044999999999999997, 'DayOfTheWeek_Tuesday'), (0.0044999999999999997, 'DayOfTheWeek_Monday'), (0.0016000000000000001, 'DayOfTheWeek_Saturday'), (0.00059999999999999995, 'Tuberculosis'), (0.0, 'DayOfTheWeek_Sunday')]\n"
     ]
    }
   ],
   "source": [
    "# Converting the dataframe into test and train dataset\n",
    "x_train, x_test, y_train, y_test = train_test_split(x, y, test_size =0.33,\n",
    "                                                    random_state=1)\n",
    "names = ['Age', 'Diabetes', 'Alcoolism', 'HiperTension', 'Handcap', 'Smokes',\n",
    "       'Scholarship', 'Tuberculosis', 'Sms_Reminder', 'AwaitingTime',\n",
    "       'Gender_F', 'Gender_M', 'DayOfTheWeek_Friday', 'DayOfTheWeek_Monday',\n",
    "       'DayOfTheWeek_Saturday', 'DayOfTheWeek_Sunday', 'DayOfTheWeek_Thursday',\n",
    "       'DayOfTheWeek_Tuesday', 'DayOfTheWeek_Wednesday']\n",
    "\n",
    "rf = RandomForestClassifier()\n",
    "rfclf = rf.fit(x_train, y_train)\n",
    "print('Features sorted by their score:')\n",
    "print(sorted(zip(map(lambda x: round(x, 4), rf.feature_importances_), names),\n",
    "             reverse = True))\n"
   ]
  },
  {
   "cell_type": "code",
   "execution_count": 34,
   "metadata": {
    "collapsed": false
   },
   "outputs": [
    {
     "name": "stdout",
     "output_type": "stream",
     "text": [
      "Decision Tree is 81.91\n"
     ]
    }
   ],
   "source": [
    "#Descicion Tree\n",
    "decision_tree = DecisionTreeClassifier()\n",
    "decision_tree.fit(x_train, y_train)\n",
    "y_pred = decision_tree.predict(x_test)\n",
    "acc_decision_tree = round(decision_tree.score(x_train, y_train)*100, 2)\n",
    "print(\"Decision Tree is %2.2f\" %acc_decision_tree)"
   ]
  },
  {
   "cell_type": "code",
   "execution_count": 35,
   "metadata": {
    "collapsed": false
   },
   "outputs": [
    {
     "name": "stdout",
     "output_type": "stream",
     "text": [
      "Random Forest Classifier is 81.91\n"
     ]
    }
   ],
   "source": [
    "#Random Forest Classifier\n",
    "random_forest = RandomForestClassifier(n_estimators=100)\n",
    "random_forest.fit(x_train, y_train)\n",
    "y_pred = random_forest.predict(x_test)\n",
    "random_forest.score(x_train, y_train)\n",
    "acc_random_forest = round(random_forest.score(x_train, y_train)*100, 2)\n",
    "print(\"Random Forest Classifier is %2.2f\" %acc_random_forest)"
   ]
  },
  {
   "cell_type": "code",
   "execution_count": 46,
   "metadata": {
    "collapsed": false
   },
   "outputs": [
    {
     "name": "stdout",
     "output_type": "stream",
     "text": [
      "KNeighbours Classifier is 74.24\n"
     ]
    }
   ],
   "source": [
    "#KNeighbors Classifier\n",
    "knn = KNeighborsClassifier(n_neighbors = 3)\n",
    "knn.fit(x_train, y_train)\n",
    "y_pred = knn.predict(x_test)\n",
    "acc_knn = round(knn.score(x_train, y_train)* 100, 2)\n",
    "print(\"KNeighbours Classifier is %2.2f\" %acc_knn)"
   ]
  },
  {
   "cell_type": "code",
   "execution_count": 45,
   "metadata": {
    "collapsed": false
   },
   "outputs": [
    {
     "name": "stdout",
     "output_type": "stream",
     "text": [
      "Gausssian Naive Bayes is 66.94\n"
     ]
    }
   ],
   "source": [
    "#Gaussian Naive Bayes\n",
    "gaussian = GaussianNB()\n",
    "gaussian.fit(x_train, y_train)\n",
    "y_pred = gaussian.predict(x_test)\n",
    "acc_gaussian = round(gaussian.score(x_train, y_train)*100, 2)\n",
    "print(\"Gausssian Naive Bayes is %2.2f\" %acc_gaussian)"
   ]
  },
  {
   "cell_type": "code",
   "execution_count": 47,
   "metadata": {
    "collapsed": false
   },
   "outputs": [
    {
     "name": "stdout",
     "output_type": "stream",
     "text": [
      "Linear SVC IS 69.66\n"
     ]
    }
   ],
   "source": [
    "#Linear SVC\n",
    "linear_svc = LinearSVC()\n",
    "linear_svc.fit(x_train, y_train)\n",
    "Y_pred = linear_svc.predict(x_test)\n",
    "acc_linear_svc = round(linear_svc.score(x_train, y_train) * 100, 2)\n",
    "print(\"Linear SVC IS %2.2f\" %acc_linear_svc)"
   ]
  },
  {
   "cell_type": "code",
   "execution_count": 48,
   "metadata": {
    "collapsed": false
   },
   "outputs": [
    {
     "name": "stdout",
     "output_type": "stream",
     "text": [
      "Base rate accuracy is 0.30\n"
     ]
    }
   ],
   "source": [
    "#Base Rate Model\n",
    "def base_rate_model(x):\n",
    "    y = np.zeros(x.shape[0])\n",
    "    return y\n",
    "\n",
    "y_base_rate = base_rate_model(x_test)\n",
    "print('Base rate accuracy is %2.2f'% accuracy_score(y_test, y_base_rate))"
   ]
  },
  {
   "cell_type": "code",
   "execution_count": 33,
   "metadata": {
    "collapsed": false
   },
   "outputs": [
    {
     "name": "stdout",
     "output_type": "stream",
     "text": [
      "Logistic Regression is 69.64\n"
     ]
    }
   ],
   "source": [
    "#Logistic Regression\n",
    "logreg = LogisticRegression()\n",
    "logreg.fit(x_train, y_train)\n",
    "y_pred = logreg.predict(x_test)\n",
    "acc_log = round(logreg.score(x_train, y_train)*100, 2)\n",
    "print(\"Logistic Regression is %2.2f\" %acc_log)"
   ]
  },
  {
   "cell_type": "code",
   "execution_count": 50,
   "metadata": {
    "collapsed": false
   },
   "outputs": [
    {
     "data": {
      "text/html": [
       "<div>\n",
       "<table border=\"1\" class=\"dataframe\">\n",
       "  <thead>\n",
       "    <tr style=\"text-align: right;\">\n",
       "      <th></th>\n",
       "      <th>Model</th>\n",
       "      <th>Score</th>\n",
       "    </tr>\n",
       "  </thead>\n",
       "  <tbody>\n",
       "    <tr>\n",
       "      <th>0</th>\n",
       "      <td>Random Forest</td>\n",
       "      <td>81.91</td>\n",
       "    </tr>\n",
       "    <tr>\n",
       "      <th>1</th>\n",
       "      <td>Decision Tree</td>\n",
       "      <td>81.91</td>\n",
       "    </tr>\n",
       "    <tr>\n",
       "      <th>2</th>\n",
       "      <td>KNN</td>\n",
       "      <td>74.24</td>\n",
       "    </tr>\n",
       "    <tr>\n",
       "      <th>3</th>\n",
       "      <td>Linear SVC</td>\n",
       "      <td>69.66</td>\n",
       "    </tr>\n",
       "    <tr>\n",
       "      <th>4</th>\n",
       "      <td>Logistic Regression</td>\n",
       "      <td>69.64</td>\n",
       "    </tr>\n",
       "    <tr>\n",
       "      <th>5</th>\n",
       "      <td>Naive Bayes</td>\n",
       "      <td>66.94</td>\n",
       "    </tr>\n",
       "  </tbody>\n",
       "</table>\n",
       "</div>"
      ],
      "text/plain": [
       "                 Model  Score\n",
       "0        Random Forest  81.91\n",
       "1        Decision Tree  81.91\n",
       "2                  KNN  74.24\n",
       "3           Linear SVC  69.66\n",
       "4  Logistic Regression  69.64\n",
       "5          Naive Bayes  66.94"
      ]
     },
     "execution_count": 50,
     "metadata": {},
     "output_type": "execute_result"
    }
   ],
   "source": [
    "#Model Comparasion\n",
    "models = pd.DataFrame({\n",
    "    'Model': ['Random Forest', 'Decision Tree', 'KNN', 'Linear SVC', \n",
    "              'Logistic Regression','Naive Bayes'],\n",
    "    'Score': [acc_random_forest, acc_decision_tree, \n",
    "              acc_knn, acc_linear_svc, acc_log, \n",
    "              acc_gaussian]})\n",
    "models.sort_values(by='Score', ascending=False)"
   ]
  },
  {
   "cell_type": "code",
   "execution_count": 30,
   "metadata": {
    "collapsed": false
   },
   "outputs": [
    {
     "name": "stdout",
     "output_type": "stream",
     "text": [
      "----Base Model ------\n",
      "Base Rate AUC = 0.50\n",
      "             precision    recall  f1-score   support\n",
      "\n",
      "          0       0.30      1.00      0.46     29752\n",
      "          1       0.00      0.00      0.00     69248\n",
      "\n",
      "avg / total       0.09      0.30      0.14     99000\n",
      "\n",
      "\n",
      "-----Logistic Model-----\n",
      "logistic AUC = 0.50\n",
      "             precision    recall  f1-score   support\n",
      "\n",
      "          0       0.48      0.01      0.01     29752\n",
      "          1       0.70      1.00      0.82     69248\n",
      "\n",
      "avg / total       0.63      0.70      0.58     99000\n",
      "\n"
     ]
    }
   ],
   "source": [
    "#C score to compare the model\n",
    "print('----Base Model ------')\n",
    "#Base Rate Auc\n",
    "base_roc_auc = roc_auc_score(y_test, base_rate_model(x_test))\n",
    "print('Base Rate AUC = %2.2f' %base_roc_auc)\n",
    "print(classification_report(y_test, base_rate_model(x_test)))\n",
    "print('\\n-----Logistic Model-----')\n",
    "#Logistic AUC\n",
    "logistic_roc_auc = roc_auc_score(y_test, model.predict(x_test))\n",
    "print('logistic AUC = %2.2f'%logistic_roc_auc)\n",
    "print(classification_report(y_test, model.predict(x_test)))"
   ]
  },
  {
   "cell_type": "code",
   "execution_count": 22,
   "metadata": {
    "collapsed": false
   },
   "outputs": [
    {
     "data": {
      "image/png": "[encoded data removed]",
      "text/plain": [
       "<matplotlib.figure.Figure at 0x1d302bc9898>"
      ]
     },
     "metadata": {},
     "output_type": "display_data"
    }
   ],
   "source": [
    "fpr, tpr, thresholds = roc_curve(y_test, model.predict_proba(x_test)[:,1])\n",
    "\n",
    "#Plot of a ROC Curve for a specific class\n",
    "plt.figure\n",
    "plt.plot(fpr, tpr, label='ROC curve (area = %0.2f)' % logistic_roc_auc)\n",
    "plt.plot([0,1],[0,1], 'k--')\n",
    "plt.xlim([0.0,1.0])\n",
    "plt.ylim([0.0,1.5])\n",
    "plt.xlabel(['False Positive Rate'])\n",
    "plt.ylabel(['True Positive Rate'])\n",
    "plt.title('Receiver operating charaterstics example')\n",
    "plt.legend(loc = 'lower right')\n",
    "plt.show()"
   ]
  },
  {
   "cell_type": "markdown",
   "metadata": {
    "collapsed": false
   },
   "source": [
    "1. ROC curve can help you to choose a threshold that balances sensitivity and specificity in a way that makes sense for your particular context\n",
    "2. You can't actually see the thresholds used to generate the curve on the ROC curve itself\n",
    "\n"
   ]
  },
  {
   "cell_type": "code",
   "execution_count": 119,
   "metadata": {
    "collapsed": true
   },
   "outputs": [],
   "source": [
    "# define a function that accepts a threshold and prints sensitivity and specificity\n",
    "def evaluate_threshold(threshold):\n",
    "    print('Sensitivity:', tpr[thresholds > threshold][-1])\n",
    "    print('Specificity:', 1 - fpr[thresholds > threshold][-1])"
   ]
  },
  {
   "cell_type": "code",
   "execution_count": 120,
   "metadata": {
    "collapsed": false
   },
   "outputs": [
    {
     "name": "stdout",
     "output_type": "stream",
     "text": [
      "Sensitivity: 0.997328442699\n",
      "Specificity: 0.00574751277225\n"
     ]
    }
   ],
   "source": [
    "evaluate_threshold(0.5)"
   ]
  },
  {
   "cell_type": "code",
   "execution_count": 121,
   "metadata": {
    "collapsed": false
   },
   "outputs": [
    {
     "name": "stdout",
     "output_type": "stream",
     "text": [
      "Sensitivity: 0.999610097043\n",
      "Specificity: 0.000436945415434\n"
     ]
    }
   ],
   "source": [
    "evaluate_threshold(0.3)"
   ]
  },
  {
   "cell_type": "markdown",
   "metadata": {},
   "source": [
    "AUC is the percentage of the ROC plot that is underneath the Curve\n"
   ]
  },
  {
   "cell_type": "code",
   "execution_count": 123,
   "metadata": {
    "collapsed": false
   },
   "outputs": [
    {
     "name": "stdout",
     "output_type": "stream",
     "text": [
      "0.588408798499\n"
     ]
    }
   ],
   "source": [
    "#Important: first argument is true values, second argument is predicted probabilities\n",
    "y_pred_prob = model.predict_proba(x_test)[:,1]\n",
    "print(roc_auc_score(y_test,y_pred_prob ))"
   ]
  },
  {
   "cell_type": "markdown",
   "metadata": {},
   "source": [
    "ROC/AUC advantages:\n",
    "1. Does not require you to set a classification threshold\n",
    "2. Still useful when there is high class imbalance\n",
    "\n"
   ]
  },
  {
   "cell_type": "code",
   "execution_count": 128,
   "metadata": {
    "collapsed": false
   },
   "outputs": [
    {
     "name": "stdout",
     "output_type": "stream",
     "text": [
      "[[  171 29581]\n",
      " [  185 69063]]\n"
     ]
    }
   ],
   "source": [
    "## Confusion Matrix\n",
    "from sklearn.metrics import confusion_matrix\n",
    "print(confusion_matrix(y_test, model.predict(x_test)))"
   ]
  },
  {
   "cell_type": "code",
   "execution_count": 130,
   "metadata": {
    "collapsed": false
   },
   "outputs": [],
   "source": [
    "# save confusion matrix and slice into four pieces\n",
    "confusion = confusion_matrix(y_test, model.predict(x_test))\n",
    "TP = confusion[1, 1]\n",
    "TN = confusion[0, 0]\n",
    "FP = confusion[0, 1]\n",
    "FN = confusion[1, 0]"
   ]
  },
  {
   "cell_type": "code",
   "execution_count": 133,
   "metadata": {
    "collapsed": false
   },
   "outputs": [
    {
     "name": "stdout",
     "output_type": "stream",
     "text": [
      "0.699333333333\n",
      "0.699333333333\n"
     ]
    }
   ],
   "source": [
    "#Metrics Computed from a confusion matrix\n",
    "#Classification Accuracy: Overall, how often is the classifier correct?\n",
    "print((TP + TN) / float(TP + TN + FP + FN))\n",
    "print(accuracy_score(y_test, model.predict(x_test)))"
   ]
  },
  {
   "cell_type": "code",
   "execution_count": 136,
   "metadata": {
    "collapsed": false
   },
   "outputs": [
    {
     "name": "stdout",
     "output_type": "stream",
     "text": [
      "0.300666666667\n",
      "0.300666666667\n"
     ]
    }
   ],
   "source": [
    "#Classification Error: Overall, how often is the classifier incorrect? \n",
    "#Also known as \"Misclassification Rate\"\n",
    "print((FP + FN) / float(TP + TN + FP + FN))\n",
    "print(1 - accuracy_score(y_test, model.predict(x_test)))"
   ]
  },
  {
   "cell_type": "code",
   "execution_count": 137,
   "metadata": {
    "collapsed": false
   },
   "outputs": [
    {
     "name": "stdout",
     "output_type": "stream",
     "text": [
      "0.00574751277225\n"
     ]
    }
   ],
   "source": [
    "#Specificity: When the actual value is negative, how often is the prediction \n",
    "#correct? How \"Specific\" or selective is the classifier when predicting\n",
    "#positive instances?\n",
    "\n",
    "print(TN / float(TN + FP))"
   ]
  },
  {
   "cell_type": "code",
   "execution_count": 138,
   "metadata": {
    "collapsed": false
   },
   "outputs": [
    {
     "name": "stdout",
     "output_type": "stream",
     "text": [
      "0.994252487228\n"
     ]
    }
   ],
   "source": [
    "#False Positive Rate: When the actual value is negative, how oftern is the \n",
    "#prediction incorrect?\n",
    "\n",
    "print(FP / float(TN + FP))"
   ]
  },
  {
   "cell_type": "code",
   "execution_count": 140,
   "metadata": {
    "collapsed": false
   },
   "outputs": [
    {
     "name": "stdout",
     "output_type": "stream",
     "text": [
      "0.700123677061\n",
      "0.700123677061\n"
     ]
    }
   ],
   "source": [
    "#Precision: When positive value is predicted, how often is the prediction \n",
    "#correct? How precise is the classifier when predicting positive instances?\n",
    "\n",
    "from sklearn.metrics import precision_score\n",
    "print(TP / float(TP + FP))\n",
    "print(precision_score(y_test, model.predict(x_test)))"
   ]
  },
  {
   "cell_type": "markdown",
   "metadata": {},
   "source": [
    "Many Others metrics can be computed: F1 Score, Mathews Correlation Coefficient etc.\n",
    "Conclusion:\n",
    "1. Confusion matrix gives you a more complete picture of how your classifier is performing\n",
    "2. Also allows you to compute various classification metrics, and these metrics can guide your model selection"
   ]
  },
  {
   "cell_type": "code",
   "execution_count": null,
   "metadata": {
    "collapsed": true
   },
   "outputs": [],
   "source": []
  }
 ],
 "metadata": {
  "kernelspec": {
   "display_name": "Python 3",
   "language": "python",
   "name": "python3"
  },
  "language_info": {
   "codemirror_mode": {
    "name": "ipython",
    "version": 3
   },
   "file_extension": ".py",
   "mimetype": "text/x-python",
   "name": "python",
   "nbconvert_exporter": "python",
   "pygments_lexer": "ipython3",
   "version": "3.6.0"
  }
 },
 "nbformat": 4,
 "nbformat_minor": 2
}
